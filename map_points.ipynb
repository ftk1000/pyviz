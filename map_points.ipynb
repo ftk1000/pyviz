{
 "cells": [
  {
   "cell_type": "markdown",
   "metadata": {},
   "source": [
    "# map_points.ipynb\n",
    "\n",
    "https://www.youtube.com/watch?v=4RnU5qKTfYY\n",
    "\n",
    "C:\\Users\\Farid Khafizov\n",
    "    \n",
    "2020.05.16"
   ]
  },
  {
   "cell_type": "code",
   "execution_count": 3,
   "metadata": {},
   "outputs": [
    {
     "name": "stdout",
     "output_type": "stream",
     "text": [
      "Collecting folium\n",
      "  Downloading folium-0.11.0-py2.py3-none-any.whl (93 kB)\n",
      "Requirement already satisfied: numpy in c:\\users\\farid khafizov\\anaconda3\\lib\\site-packages (from folium) (1.18.1)\n",
      "Requirement already satisfied: requests in c:\\users\\farid khafizov\\anaconda3\\lib\\site-packages (from folium) (2.22.0)\n",
      "Requirement already satisfied: jinja2>=2.9 in c:\\users\\farid khafizov\\anaconda3\\lib\\site-packages (from folium) (2.11.1)\n",
      "Collecting branca>=0.3.0\n",
      "  Downloading branca-0.4.1-py3-none-any.whl (24 kB)\n",
      "Requirement already satisfied: certifi>=2017.4.17 in c:\\users\\farid khafizov\\anaconda3\\lib\\site-packages (from requests->folium) (2019.11.28)\n",
      "Requirement already satisfied: idna<2.9,>=2.5 in c:\\users\\farid khafizov\\anaconda3\\lib\\site-packages (from requests->folium) (2.8)\n",
      "Requirement already satisfied: chardet<3.1.0,>=3.0.2 in c:\\users\\farid khafizov\\anaconda3\\lib\\site-packages (from requests->folium) (3.0.4)\n",
      "Requirement already satisfied: urllib3!=1.25.0,!=1.25.1,<1.26,>=1.21.1 in c:\\users\\farid khafizov\\anaconda3\\lib\\site-packages (from requests->folium) (1.25.8)\n",
      "Requirement already satisfied: MarkupSafe>=0.23 in c:\\users\\farid khafizov\\anaconda3\\lib\\site-packages (from jinja2>=2.9->folium) (1.1.1)\n",
      "Installing collected packages: branca, folium\n",
      "Successfully installed branca-0.4.1 folium-0.11.0\n"
     ]
    }
   ],
   "source": [
    "!pip install folium"
   ]
  },
  {
   "cell_type": "code",
   "execution_count": 1,
   "metadata": {},
   "outputs": [],
   "source": [
    "import folium"
   ]
  },
  {
   "cell_type": "markdown",
   "metadata": {},
   "source": [
    "# List of icons\n",
    "* [https://fontawesome.com/icons?d=gallery](https://fontawesome.com/icons?d=gallery)\n",
    "* glyphicon icons of Bootstrap that are built-in and standard, thus without prefix needed. https://getbootstrap.com/docs/3.3/components/\n",
    "* https://stackoverflow.com/questions/53721079/python-folium-icon-list\n",
    "* [SVG icons at https://feathericons.com/](https://feathericons.com/)"
   ]
  },
  {
   "cell_type": "code",
   "execution_count": 34,
   "metadata": {},
   "outputs": [],
   "source": [
    "m = folium.Map(  location=[42,-71], zoom_start=12 )\n",
    "\n",
    "tooltip = 'click for more info'\n",
    "\n",
    "c_icon0 = folium.features.CustomIcon('./icons/logo.png',                  icon_size=(50,50)) \n",
    "c_icon1 = folium.features.CustomIcon('./icons/broadcast-tower-solid.svg', icon_size=(50,50)) \n",
    "c_icon2 = folium.features.CustomIcon('./feather/compass.svg',             icon_size=(50,50))\n",
    "\n",
    "folium.Marker(location=[42.015,-71.035], \n",
    "              icon=folium.Icon(color='green', \n",
    "                               icon= 'c_icon1'  ,#',\n",
    "                              prefix='fa')).add_to(m)\n",
    "\n",
    "folium.Marker(location=[42.03,-71.01], icon=folium.Icon(color='red', icon='tower')).add_to(m)\n",
    "\n",
    "folium.Marker(location=[42.02,-71.02], \n",
    "              icon=folium.Icon(color='pink', \n",
    "                               icon='mobile', \n",
    "                               prefix='fa') ).add_to(m)\n",
    "\n",
    "folium.Marker(location=[42.01,-71.02], icon=folium.Icon(color='lightgray', icon='phone-alt')).add_to(m)\n",
    "\n",
    "folium.Marker([42,-71],  popup='<strong> loc-1</strong>', tooltip=tooltip).add_to(m)\n",
    "folium.Marker([42,-71.1],  popup='<strong> loc-2</strong>', tooltip=tooltip).add_to(m)\n",
    "folium.Marker([42.013,-71],  popup='<strong> loc-3</strong>', tooltip=tooltip,\n",
    "             icon=folium.Icon(color='green', icon='leaf')).add_to(m)\n",
    "\n",
    "# https://stackoverflow.com/questions/55802408/object-of-type-pngimagefile-is-not-json-serializable\n",
    "# folium.Marker([42.05,-71],  popup='<strong> loc-4</strong>', tooltip=tooltip,\n",
    "#              icon=folium.Icon(color='./conda/green', icon=eNBIcon)).add_to(m)\n",
    "\n",
    "fn = \"./test.html\"\n",
    "m.save(fn)"
   ]
  },
  {
   "cell_type": "code",
   "execution_count": null,
   "metadata": {},
   "outputs": [],
   "source": []
  }
 ],
 "metadata": {
  "kernelspec": {
   "display_name": "Python 3",
   "language": "python",
   "name": "python3"
  },
  "language_info": {
   "codemirror_mode": {
    "name": "ipython",
    "version": 3
   },
   "file_extension": ".py",
   "mimetype": "text/x-python",
   "name": "python",
   "nbconvert_exporter": "python",
   "pygments_lexer": "ipython3",
   "version": "3.7.6"
  }
 },
 "nbformat": 4,
 "nbformat_minor": 4
}
