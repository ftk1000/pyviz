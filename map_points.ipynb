{
 "cells": [
  {
   "cell_type": "markdown",
   "metadata": {},
   "source": [
    "# map_points.ipynb\n",
    "\n",
    "https://www.youtube.com/watch?v=4RnU5qKTfYY\n",
    "\n",
    "C:\\Users\\Farid Khafizov\n",
    "    \n",
    "2020.05.16"
   ]
  },
  {
   "cell_type": "code",
   "execution_count": 3,
   "metadata": {},
   "outputs": [
    {
     "name": "stdout",
     "output_type": "stream",
     "text": [
      "Collecting folium\n",
      "  Downloading folium-0.11.0-py2.py3-none-any.whl (93 kB)\n",
      "Requirement already satisfied: numpy in c:\\users\\farid khafizov\\anaconda3\\lib\\site-packages (from folium) (1.18.1)\n",
      "Requirement already satisfied: requests in c:\\users\\farid khafizov\\anaconda3\\lib\\site-packages (from folium) (2.22.0)\n",
      "Requirement already satisfied: jinja2>=2.9 in c:\\users\\farid khafizov\\anaconda3\\lib\\site-packages (from folium) (2.11.1)\n",
      "Collecting branca>=0.3.0\n",
      "  Downloading branca-0.4.1-py3-none-any.whl (24 kB)\n",
      "Requirement already satisfied: certifi>=2017.4.17 in c:\\users\\farid khafizov\\anaconda3\\lib\\site-packages (from requests->folium) (2019.11.28)\n",
      "Requirement already satisfied: idna<2.9,>=2.5 in c:\\users\\farid khafizov\\anaconda3\\lib\\site-packages (from requests->folium) (2.8)\n",
      "Requirement already satisfied: chardet<3.1.0,>=3.0.2 in c:\\users\\farid khafizov\\anaconda3\\lib\\site-packages (from requests->folium) (3.0.4)\n",
      "Requirement already satisfied: urllib3!=1.25.0,!=1.25.1,<1.26,>=1.21.1 in c:\\users\\farid khafizov\\anaconda3\\lib\\site-packages (from requests->folium) (1.25.8)\n",
      "Requirement already satisfied: MarkupSafe>=0.23 in c:\\users\\farid khafizov\\anaconda3\\lib\\site-packages (from jinja2>=2.9->folium) (1.1.1)\n",
      "Installing collected packages: branca, folium\n",
      "Successfully installed branca-0.4.1 folium-0.11.0\n"
     ]
    }
   ],
   "source": [
    "# !pip install folium"
   ]
  },
  {
   "cell_type": "code",
   "execution_count": 1,
   "metadata": {},
   "outputs": [],
   "source": []
  },
  {
   "cell_type": "markdown",
   "metadata": {},
   "source": [
    "# List of icons\n",
    "* [https://fontawesome.com/icons?d=gallery](https://fontawesome.com/icons?d=gallery)\n",
    "* glyphicon icons of Bootstrap that are built-in and standard, thus without prefix needed. https://getbootstrap.com/docs/3.3/components/\n",
    "* https://stackoverflow.com/questions/53721079/python-folium-icon-list\n",
    "* [SVG icons at https://feathericons.com/](https://feathericons.com/)"
   ]
  },
  {
   "cell_type": "code",
   "execution_count": 18,
   "metadata": {},
   "outputs": [
    {
     "data": {
      "text/html": [
       "<div style=\"width:100%;\"><div style=\"position:relative;width:100%;height:0;padding-bottom:60%;\"><span style=\"color:#565656\">Make this Notebook Trusted to load map: File -> Trust Notebook</span><iframe src=\"about:blank\" style=\"position:absolute;width:100%;height:100%;left:0;top:0;border:none !important;\" data-html=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 onload=\"this.contentDocument.open();this.contentDocument.write(atob(this.getAttribute('data-html')));this.contentDocument.close();\" allowfullscreen webkitallowfullscreen mozallowfullscreen></iframe></div></div>"
      ],
      "text/plain": [
       "<folium.folium.Map at 0x14ad690>"
      ]
     },
     "execution_count": 18,
     "metadata": {},
     "output_type": "execute_result"
    }
   ],
   "source": [
    "import folium\n",
    "\n",
    "m = folium.Map(  location=[33.09373, -96.75884], zoom_start=13 )\n",
    "\n",
    "tooltip = 'click for more info'\n",
    "\n",
    "c_icon0 = folium.features.CustomIcon('./icons/logo.png',                  icon_size=(50,50)) \n",
    "c_icon1 = folium.features.CustomIcon('./icons/broadcast-tower-solid.svg', icon_size=(50,50)) \n",
    "# c_icon2 = folium.features.CustomIcon('./feather/compass.svg',             icon_size=(50,50))\n",
    "'''\n",
    "folium.Marker(location=[42.015,-71.035], \n",
    "              icon=folium.Icon(color='green', \n",
    "                               icon= 'c_icon1'  ,#',\n",
    "                              prefix='fa')).add_to(m)\n",
    "\n",
    "folium.Marker(location=[42.03,-71.01], icon=folium.Icon(color='red', icon='tower')).add_to(m)\n",
    "\n",
    "folium.Marker(location=[42.02,-71.02], \n",
    "              icon=folium.Icon(color='pink', \n",
    "                               icon='mobile', \n",
    "                               prefix='fa') ).add_to(m)\n",
    "\n",
    "folium.Marker(location=[42.01,-71.02], icon=folium.Icon(color='lightgray', icon='phone-alt')).add_to(m)\n",
    "\n",
    "folium.Marker([42,-71],  popup='<strong> loc-1</strong>', tooltip=tooltip).add_to(m)\n",
    "folium.Marker([42,-71.1],  popup='<strong> loc-2</strong>', tooltip=tooltip).add_to(m)\n",
    "folium.Marker([42.013,-71],  popup='<strong> loc-3</strong>', tooltip=tooltip,\n",
    "             icon=folium.Icon(color='green', icon='leaf')).add_to(m)\n",
    "'''\n",
    "\n",
    "folium.Marker(location=[33.09373, -96.75884],  popup='<strong> loc-3</strong>', tooltip=tooltip,\n",
    "             icon=folium.Icon(color='red', \n",
    "                              icon='mobile',\n",
    "                              prefix = 'fa'  )).add_to(m)\n",
    "\n",
    "\n",
    "\n",
    "import numpy as np\n",
    "#  ICON COLORS\n",
    "#   ['red', 'blue', 'green', 'purple', 'orange', 'darkred', 'lightred',\n",
    "#   'beige', 'darkblue', 'darkgreen', 'cadetblue', 'darkpurple', 'white',\n",
    "#   'pink', 'lightblue', 'lightgreen', 'gray', 'black', 'lightgray']\n",
    "\n",
    "# ICONS   https://fontawesome.com/icons?d=gallery\n",
    "icons  = ['leaf',  'mobile', 'android', 'anchor',  'angle-up', 'adjust', 'angle-double-up',  'angle-double-right',\n",
    "          'angle-double-down', 'angle-double-left']\n",
    "#          'air-freshener',  'adn', 'arrow-alt-circle-left', 'arrow-alt-circle-up', 'archway']\n",
    "\n",
    "colors=['red', 'blue', 'green', 'purple', 'orange', 'darkred', 'lightred',\n",
    "  'beige', 'darkblue', 'darkgreen', 'cadetblue', 'darkpurple', 'white',\n",
    "  'pink', 'lightblue', 'lightgreen', 'gray', 'black', 'lightgray']\n",
    "\n",
    "colors = ['green', 'red',    'blue',    'orange',  'purple',    'black',   'cadetblue', 'pink',\n",
    "          'beige',   'green' ,'lightred']\n",
    "\n",
    "\n",
    "N_ues = len(icons)\n",
    "\n",
    "xx=np.random.normal(loc=33.09373, scale=.01, size=N_ues)\n",
    "yy=np.random.normal(loc=-96.75884, scale=.01, size=N_ues)\n",
    "# .reshape(3,2)\n",
    "\n",
    "\n",
    "\n",
    "\n",
    "for i in range(N_ues):\n",
    "    folium.Marker(location=[xx[i], yy[i]],  \n",
    "                  popup='<strong> loc-3</strong>', \n",
    "                  tooltip=tooltip,\n",
    "             icon=folium.Icon(color=colors[i], \n",
    "                              icon=icons[i],\n",
    "                              prefix = 'fa'  )).add_to(m)\n",
    "\n",
    "\n",
    "\n",
    "\n",
    "# https://stackoverflow.com/questions/55802408/object-of-type-pngimagefile-is-not-json-serializable\n",
    "# folium.Marker([42.05,-71],  popup='<strong> loc-4</strong>', tooltip=tooltip,\n",
    "#              icon=folium.Icon(color='./conda/green', icon=eNBIcon)).add_to(m)\n",
    "\n",
    "# fn = \"./test.html\"\n",
    "# m.save(fn)\n",
    "m"
   ]
  },
  {
   "cell_type": "code",
   "execution_count": 20,
   "metadata": {},
   "outputs": [],
   "source": []
  },
  {
   "cell_type": "code",
   "execution_count": null,
   "metadata": {},
   "outputs": [],
   "source": []
  },
  {
   "cell_type": "code",
   "execution_count": 6,
   "metadata": {},
   "outputs": [
    {
     "name": "stderr",
     "output_type": "stream",
     "text": [
      "C:\\Users\\Farid Khafizov\\anaconda3\\lib\\site-packages\\ipykernel_launcher.py:21: FutureWarning: Method `add_children` is deprecated. Please use `add_child` instead.\n"
     ]
    },
    {
     "data": {
      "text/html": [
       "<div style=\"width:100%;\"><div style=\"position:relative;width:100%;height:0;padding-bottom:60%;\"><span style=\"color:#565656\">Make this Notebook Trusted to load map: File -> Trust Notebook</span><iframe src=\"about:blank\" style=\"position:absolute;width:100%;height:100%;left:0;top:0;border:none !important;\" data-html=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 onload=\"this.contentDocument.open();this.contentDocument.write(atob(this.getAttribute('data-html')));this.contentDocument.close();\" allowfullscreen webkitallowfullscreen mozallowfullscreen></iframe></div></div>"
      ],
      "text/plain": [
       "<folium.folium.Map at 0x992b550>"
      ]
     },
     "execution_count": 6,
     "metadata": {},
     "output_type": "execute_result"
    }
   ],
   "source": [
    "import folium\n",
    "\n",
    "# Coordinates are 10 points on the great circle from Boston to\n",
    "# San Francisco.\n",
    "# Reference: http://williams.best.vwh.net/avform.htm#Intermediate\n",
    "coordinates = [\n",
    "    [42.3581, -71.0636],\n",
    "    [42.82995815, -74.78991444],\n",
    "    [43.17929819, -78.56603306],\n",
    "    [43.40320216, -82.37774519],\n",
    "    [43.49975489, -86.20965845],\n",
    "    [41.4338549, -108.74485069],\n",
    "    [40.67471747, -112.29609954],\n",
    "    [39.8093434, -115.76190821],\n",
    "    [38.84352776, -119.13665678],\n",
    "    [37.7833, -122.4167]]\n",
    "\n",
    "# Create the map and add the line\n",
    "m = folium.Map(location=[41.9, -97.3], zoom_start=4)\n",
    "my_PolyLine=folium.PolyLine(locations=coordinates,weight=5)\n",
    "m.add_children(my_PolyLine)"
   ]
  },
  {
   "cell_type": "code",
   "execution_count": null,
   "metadata": {},
   "outputs": [],
   "source": []
  }
 ],
 "metadata": {
  "kernelspec": {
   "display_name": "Python 3",
   "language": "python",
   "name": "python3"
  },
  "language_info": {
   "codemirror_mode": {
    "name": "ipython",
    "version": 3
   },
   "file_extension": ".py",
   "mimetype": "text/x-python",
   "name": "python",
   "nbconvert_exporter": "python",
   "pygments_lexer": "ipython3",
   "version": "3.7.6"
  }
 },
 "nbformat": 4,
 "nbformat_minor": 4
}
