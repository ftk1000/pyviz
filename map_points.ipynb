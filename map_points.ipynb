{
 "cells": [
  {
   "cell_type": "markdown",
   "metadata": {},
   "source": [
    "# map_points.ipynb\n",
    "\n",
    "https://www.youtube.com/watch?v=4RnU5qKTfYY\n",
    "\n",
    "C:\\Users\\Farid Khafizov\n",
    "    \n",
    "2020.05.16"
   ]
  },
  {
   "cell_type": "code",
   "execution_count": 3,
   "metadata": {},
   "outputs": [
    {
     "name": "stdout",
     "output_type": "stream",
     "text": [
      "Collecting folium\n",
      "  Downloading folium-0.11.0-py2.py3-none-any.whl (93 kB)\n",
      "Requirement already satisfied: numpy in c:\\users\\farid khafizov\\anaconda3\\lib\\site-packages (from folium) (1.18.1)\n",
      "Requirement already satisfied: requests in c:\\users\\farid khafizov\\anaconda3\\lib\\site-packages (from folium) (2.22.0)\n",
      "Requirement already satisfied: jinja2>=2.9 in c:\\users\\farid khafizov\\anaconda3\\lib\\site-packages (from folium) (2.11.1)\n",
      "Collecting branca>=0.3.0\n",
      "  Downloading branca-0.4.1-py3-none-any.whl (24 kB)\n",
      "Requirement already satisfied: certifi>=2017.4.17 in c:\\users\\farid khafizov\\anaconda3\\lib\\site-packages (from requests->folium) (2019.11.28)\n",
      "Requirement already satisfied: idna<2.9,>=2.5 in c:\\users\\farid khafizov\\anaconda3\\lib\\site-packages (from requests->folium) (2.8)\n",
      "Requirement already satisfied: chardet<3.1.0,>=3.0.2 in c:\\users\\farid khafizov\\anaconda3\\lib\\site-packages (from requests->folium) (3.0.4)\n",
      "Requirement already satisfied: urllib3!=1.25.0,!=1.25.1,<1.26,>=1.21.1 in c:\\users\\farid khafizov\\anaconda3\\lib\\site-packages (from requests->folium) (1.25.8)\n",
      "Requirement already satisfied: MarkupSafe>=0.23 in c:\\users\\farid khafizov\\anaconda3\\lib\\site-packages (from jinja2>=2.9->folium) (1.1.1)\n",
      "Installing collected packages: branca, folium\n",
      "Successfully installed branca-0.4.1 folium-0.11.0\n"
     ]
    }
   ],
   "source": [
    "# !pip install folium"
   ]
  },
  {
   "cell_type": "code",
   "execution_count": 1,
   "metadata": {},
   "outputs": [],
   "source": []
  },
  {
   "cell_type": "markdown",
   "metadata": {},
   "source": [
    "# List of icons\n",
    "* [https://fontawesome.com/icons?d=gallery](https://fontawesome.com/icons?d=gallery)\n",
    "* glyphicon icons of Bootstrap that are built-in and standard, thus without prefix needed. https://getbootstrap.com/docs/3.3/components/\n",
    "* https://stackoverflow.com/questions/53721079/python-folium-icon-list\n",
    "* [SVG icons at https://feathericons.com/](https://feathericons.com/)"
   ]
  },
  {
   "cell_type": "code",
   "execution_count": 27,
   "metadata": {},
   "outputs": [
    {
     "data": {
      "text/html": [
       "<div style=\"width:100%;\"><div style=\"position:relative;width:100%;height:0;padding-bottom:60%;\"><span style=\"color:#565656\">Make this Notebook Trusted to load map: File -> Trust Notebook</span><iframe src=\"about:blank\" style=\"position:absolute;width:100%;height:100%;left:0;top:0;border:none !important;\" data-html=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 onload=\"this.contentDocument.open();this.contentDocument.write(atob(this.getAttribute('data-html')));this.contentDocument.close();\" allowfullscreen webkitallowfullscreen mozallowfullscreen></iframe></div></div>"
      ],
      "text/plain": [
       "<folium.folium.Map at 0x14e3790>"
      ]
     },
     "execution_count": 27,
     "metadata": {},
     "output_type": "execute_result"
    }
   ],
   "source": [
    "import folium\n",
    "\n",
    "m = folium.Map(  location=[33.09373, -96.75884], zoom_start=13 )\n",
    "\n",
    "tooltip = 'click for more info'\n",
    "\n",
    "c_icon0 = folium.features.CustomIcon('./icons/logo.png',                  icon_size=(50,50)) \n",
    "c_icon1 = folium.features.CustomIcon('./icons/broadcast-tower-solid.svg', icon_size=(50,50)) \n",
    "# c_icon2 = folium.features.CustomIcon('./feather/compass.svg',             icon_size=(50,50))\n",
    "'''\n",
    "folium.Marker(location=[42.015,-71.035], \n",
    "              icon=folium.Icon(color='green', \n",
    "                               icon= 'c_icon1'  ,#',\n",
    "                              prefix='fa')).add_to(m)\n",
    "\n",
    "folium.Marker(location=[42.03,-71.01], icon=folium.Icon(color='red', icon='tower')).add_to(m)\n",
    "\n",
    "folium.Marker(location=[42.02,-71.02], \n",
    "              icon=folium.Icon(color='pink', \n",
    "                               icon='mobile', \n",
    "                               prefix='fa') ).add_to(m)\n",
    "\n",
    "folium.Marker(location=[42.01,-71.02], icon=folium.Icon(color='lightgray', icon='phone-alt')).add_to(m)\n",
    "\n",
    "folium.Marker([42,-71],  popup='<strong> loc-1</strong>', tooltip=tooltip).add_to(m)\n",
    "folium.Marker([42,-71.1],  popup='<strong> loc-2</strong>', tooltip=tooltip).add_to(m)\n",
    "folium.Marker([42.013,-71],  popup='<strong> loc-3</strong>', tooltip=tooltip,\n",
    "             icon=folium.Icon(color='green', icon='leaf')).add_to(m)\n",
    "'''\n",
    "\n",
    "folium.Marker(location=[33.09373, -96.75884],  popup='<strong> loc-3</strong>', tooltip=tooltip,\n",
    "             icon=folium.Icon(color='red', \n",
    "                              icon='mobile',\n",
    "                              prefix = 'fa'  )).add_to(m)\n",
    "\n",
    "\n",
    "\n",
    "import numpy as np\n",
    "xx=np.random.normal(loc=33.09373, scale=.01, size=6)\n",
    "yy=np.random.normal(loc=-96.75884, scale=.01, size=6)\n",
    "# .reshape(3,2)\n",
    "\n",
    "\n",
    "# ICONS   https://fontawesome.com/icons?d=gallery\n",
    "icons = ['leaf', 'mobile', 'android', 'anchor',  'angle-up', 'adjust']\n",
    "#          'air-freshener',  'adn']\n",
    "# k=5\n",
    "\n",
    "\n",
    "for i in range(6):\n",
    "    folium.Marker(location=[xx[i], yy[i]],  \n",
    "                  popup='<strong> loc-3</strong>', \n",
    "                  tooltip=tooltip,\n",
    "             icon=folium.Icon(color='green', \n",
    "                              icon=icons[i],\n",
    "                              prefix = 'fa'  )).add_to(m)\n",
    "\n",
    "\n",
    "\n",
    "\n",
    "# https://stackoverflow.com/questions/55802408/object-of-type-pngimagefile-is-not-json-serializable\n",
    "# folium.Marker([42.05,-71],  popup='<strong> loc-4</strong>', tooltip=tooltip,\n",
    "#              icon=folium.Icon(color='./conda/green', icon=eNBIcon)).add_to(m)\n",
    "\n",
    "# fn = \"./test.html\"\n",
    "# m.save(fn)\n",
    "m"
   ]
  },
  {
   "cell_type": "code",
   "execution_count": 20,
   "metadata": {},
   "outputs": [],
   "source": []
  },
  {
   "cell_type": "code",
   "execution_count": null,
   "metadata": {},
   "outputs": [],
   "source": []
  },
  {
   "cell_type": "code",
   "execution_count": 6,
   "metadata": {},
   "outputs": [
    {
     "name": "stderr",
     "output_type": "stream",
     "text": [
      "C:\\Users\\Farid Khafizov\\anaconda3\\lib\\site-packages\\ipykernel_launcher.py:21: FutureWarning: Method `add_children` is deprecated. Please use `add_child` instead.\n"
     ]
    },
    {
     "data": {
      "text/html": [
       "<div style=\"width:100%;\"><div style=\"position:relative;width:100%;height:0;padding-bottom:60%;\"><span style=\"color:#565656\">Make this Notebook Trusted to load map: File -> Trust Notebook</span><iframe src=\"about:blank\" style=\"position:absolute;width:100%;height:100%;left:0;top:0;border:none !important;\" data-html=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 onload=\"this.contentDocument.open();this.contentDocument.write(atob(this.getAttribute('data-html')));this.contentDocument.close();\" allowfullscreen webkitallowfullscreen mozallowfullscreen></iframe></div></div>"
      ],
      "text/plain": [
       "<folium.folium.Map at 0x992b550>"
      ]
     },
     "execution_count": 6,
     "metadata": {},
     "output_type": "execute_result"
    }
   ],
   "source": [
    "import folium\n",
    "\n",
    "# Coordinates are 10 points on the great circle from Boston to\n",
    "# San Francisco.\n",
    "# Reference: http://williams.best.vwh.net/avform.htm#Intermediate\n",
    "coordinates = [\n",
    "    [42.3581, -71.0636],\n",
    "    [42.82995815, -74.78991444],\n",
    "    [43.17929819, -78.56603306],\n",
    "    [43.40320216, -82.37774519],\n",
    "    [43.49975489, -86.20965845],\n",
    "    [41.4338549, -108.74485069],\n",
    "    [40.67471747, -112.29609954],\n",
    "    [39.8093434, -115.76190821],\n",
    "    [38.84352776, -119.13665678],\n",
    "    [37.7833, -122.4167]]\n",
    "\n",
    "# Create the map and add the line\n",
    "m = folium.Map(location=[41.9, -97.3], zoom_start=4)\n",
    "my_PolyLine=folium.PolyLine(locations=coordinates,weight=5)\n",
    "m.add_children(my_PolyLine)"
   ]
  },
  {
   "cell_type": "code",
   "execution_count": null,
   "metadata": {},
   "outputs": [],
   "source": []
  }
 ],
 "metadata": {
  "kernelspec": {
   "display_name": "Python 3",
   "language": "python",
   "name": "python3"
  },
  "language_info": {
   "codemirror_mode": {
    "name": "ipython",
    "version": 3
   },
   "file_extension": ".py",
   "mimetype": "text/x-python",
   "name": "python",
   "nbconvert_exporter": "python",
   "pygments_lexer": "ipython3",
   "version": "3.7.6"
  }
 },
 "nbformat": 4,
 "nbformat_minor": 4
}
