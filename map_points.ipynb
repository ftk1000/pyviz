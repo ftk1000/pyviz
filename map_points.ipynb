{
 "cells": [
  {
   "cell_type": "markdown",
   "metadata": {},
   "source": [
    "# map_points.ipynb\n",
    "\n",
    "https://www.youtube.com/watch?v=4RnU5qKTfYY\n",
    "\n",
    "C:\\Users\\Farid Khafizov\n",
    "    \n",
    "2020.05.16"
   ]
  },
  {
   "cell_type": "code",
   "execution_count": 3,
   "metadata": {},
   "outputs": [
    {
     "name": "stdout",
     "output_type": "stream",
     "text": [
      "Collecting folium\n",
      "  Downloading folium-0.11.0-py2.py3-none-any.whl (93 kB)\n",
      "Requirement already satisfied: numpy in c:\\users\\farid khafizov\\anaconda3\\lib\\site-packages (from folium) (1.18.1)\n",
      "Requirement already satisfied: requests in c:\\users\\farid khafizov\\anaconda3\\lib\\site-packages (from folium) (2.22.0)\n",
      "Requirement already satisfied: jinja2>=2.9 in c:\\users\\farid khafizov\\anaconda3\\lib\\site-packages (from folium) (2.11.1)\n",
      "Collecting branca>=0.3.0\n",
      "  Downloading branca-0.4.1-py3-none-any.whl (24 kB)\n",
      "Requirement already satisfied: certifi>=2017.4.17 in c:\\users\\farid khafizov\\anaconda3\\lib\\site-packages (from requests->folium) (2019.11.28)\n",
      "Requirement already satisfied: idna<2.9,>=2.5 in c:\\users\\farid khafizov\\anaconda3\\lib\\site-packages (from requests->folium) (2.8)\n",
      "Requirement already satisfied: chardet<3.1.0,>=3.0.2 in c:\\users\\farid khafizov\\anaconda3\\lib\\site-packages (from requests->folium) (3.0.4)\n",
      "Requirement already satisfied: urllib3!=1.25.0,!=1.25.1,<1.26,>=1.21.1 in c:\\users\\farid khafizov\\anaconda3\\lib\\site-packages (from requests->folium) (1.25.8)\n",
      "Requirement already satisfied: MarkupSafe>=0.23 in c:\\users\\farid khafizov\\anaconda3\\lib\\site-packages (from jinja2>=2.9->folium) (1.1.1)\n",
      "Installing collected packages: branca, folium\n",
      "Successfully installed branca-0.4.1 folium-0.11.0\n"
     ]
    }
   ],
   "source": [
    "!pip install folium"
   ]
  },
  {
   "cell_type": "code",
   "execution_count": 4,
   "metadata": {},
   "outputs": [],
   "source": [
    "import folium"
   ]
  },
  {
   "cell_type": "code",
   "execution_count": 22,
   "metadata": {},
   "outputs": [],
   "source": [
    "m = folium.Map(  location=[42,-71], zoom_start=12 )\n",
    "\n",
    "eNBIcon = folium.features.CustomIcon('./conda/enb.png', icon_size=(50,50))\n",
    "\n",
    "tooltip = 'click for more info'\n",
    "\n",
    "folium.Marker([42,-71],  popup='<strong> loc-1</strong>', tooltip=tooltip).add_to(m)\n",
    "folium.Marker([42,-71.1],  popup='<strong> loc-2</strong>', tooltip=tooltip).add_to(m)\n",
    "folium.Marker([42.1,-71],  popup='<strong> loc-3</strong>', tooltip=tooltip,\n",
    "             icon=folium.Icon(color='green', icon='leaf')).add_to(m)\n",
    "\n",
    "# https://stackoverflow.com/questions/55802408/object-of-type-pngimagefile-is-not-json-serializable\n",
    "# folium.Marker([42.05,-71],  popup='<strong> loc-4</strong>', tooltip=tooltip,\n",
    "#              icon=folium.Icon(color='./conda/green', icon=eNBIcon)).add_to(m)\n",
    "\n",
    "fn = \"./conda/test.html\"\n",
    "m.save(fn)"
   ]
  },
  {
   "cell_type": "code",
   "execution_count": null,
   "metadata": {},
   "outputs": [],
   "source": []
  }
 ],
 "metadata": {
  "kernelspec": {
   "display_name": "Python 3",
   "language": "python",
   "name": "python3"
  },
  "language_info": {
   "codemirror_mode": {
    "name": "ipython",
    "version": 3
   },
   "file_extension": ".py",
   "mimetype": "text/x-python",
   "name": "python",
   "nbconvert_exporter": "python",
   "pygments_lexer": "ipython3",
   "version": "3.7.6"
  }
 },
 "nbformat": 4,
 "nbformat_minor": 4
}
