{
 "cells": [
  {
   "cell_type": "markdown",
   "metadata": {},
   "source": [
    "# map_points.ipynb\n",
    "\n",
    "https://www.youtube.com/watch?v=4RnU5qKTfYY\n",
    "\n",
    "C:\\Users\\Farid Khafizov\n",
    "    \n",
    "2020.05.16"
   ]
  },
  {
   "cell_type": "code",
   "execution_count": 3,
   "metadata": {},
   "outputs": [
    {
     "name": "stdout",
     "output_type": "stream",
     "text": [
      "Collecting folium\n",
      "  Downloading folium-0.11.0-py2.py3-none-any.whl (93 kB)\n",
      "Requirement already satisfied: numpy in c:\\users\\farid khafizov\\anaconda3\\lib\\site-packages (from folium) (1.18.1)\n",
      "Requirement already satisfied: requests in c:\\users\\farid khafizov\\anaconda3\\lib\\site-packages (from folium) (2.22.0)\n",
      "Requirement already satisfied: jinja2>=2.9 in c:\\users\\farid khafizov\\anaconda3\\lib\\site-packages (from folium) (2.11.1)\n",
      "Collecting branca>=0.3.0\n",
      "  Downloading branca-0.4.1-py3-none-any.whl (24 kB)\n",
      "Requirement already satisfied: certifi>=2017.4.17 in c:\\users\\farid khafizov\\anaconda3\\lib\\site-packages (from requests->folium) (2019.11.28)\n",
      "Requirement already satisfied: idna<2.9,>=2.5 in c:\\users\\farid khafizov\\anaconda3\\lib\\site-packages (from requests->folium) (2.8)\n",
      "Requirement already satisfied: chardet<3.1.0,>=3.0.2 in c:\\users\\farid khafizov\\anaconda3\\lib\\site-packages (from requests->folium) (3.0.4)\n",
      "Requirement already satisfied: urllib3!=1.25.0,!=1.25.1,<1.26,>=1.21.1 in c:\\users\\farid khafizov\\anaconda3\\lib\\site-packages (from requests->folium) (1.25.8)\n",
      "Requirement already satisfied: MarkupSafe>=0.23 in c:\\users\\farid khafizov\\anaconda3\\lib\\site-packages (from jinja2>=2.9->folium) (1.1.1)\n",
      "Installing collected packages: branca, folium\n",
      "Successfully installed branca-0.4.1 folium-0.11.0\n"
     ]
    }
   ],
   "source": [
    "# !pip install folium"
   ]
  },
  {
   "cell_type": "code",
   "execution_count": 1,
   "metadata": {},
   "outputs": [],
   "source": []
  },
  {
   "cell_type": "markdown",
   "metadata": {},
   "source": [
    "# List of icons\n",
    "* [https://fontawesome.com/icons?d=gallery](https://fontawesome.com/icons?d=gallery)\n",
    "* glyphicon icons of Bootstrap that are built-in and standard, thus without prefix needed. https://getbootstrap.com/docs/3.3/components/\n",
    "* https://stackoverflow.com/questions/53721079/python-folium-icon-list\n",
    "* [SVG icons at https://feathericons.com/](https://feathericons.com/)"
   ]
  },
  {
   "cell_type": "code",
   "execution_count": 11,
   "metadata": {},
   "outputs": [
    {
     "data": {
      "text/html": [
       "<div style=\"width:100%;\"><div style=\"position:relative;width:100%;height:0;padding-bottom:60%;\"><span style=\"color:#565656\">Make this Notebook Trusted to load map: File -> Trust Notebook</span><iframe src=\"about:blank\" style=\"position:absolute;width:100%;height:100%;left:0;top:0;border:none !important;\" data-html=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 onload=\"this.contentDocument.open();this.contentDocument.write(atob(this.getAttribute('data-html')));this.contentDocument.close();\" allowfullscreen webkitallowfullscreen mozallowfullscreen></iframe></div></div>"
      ],
      "text/plain": [
       "<folium.folium.Map at 0x13e14f0>"
      ]
     },
     "execution_count": 11,
     "metadata": {},
     "output_type": "execute_result"
    }
   ],
   "source": [
    "import folium\n",
    "\n",
    "m = folium.Map(  location=[33.09373, -96.75884], zoom_start=13 )\n",
    "\n",
    "tooltip = 'click for more info'\n",
    "\n",
    "c_icon0 = folium.features.CustomIcon('./icons/logo.png',                  icon_size=(50,50)) \n",
    "c_icon1 = folium.features.CustomIcon('./icons/broadcast-tower-solid.svg', icon_size=(50,50)) \n",
    "# c_icon2 = folium.features.CustomIcon('./feather/compass.svg',             icon_size=(50,50))\n",
    "'''\n",
    "folium.Marker(location=[42.015,-71.035], \n",
    "              icon=folium.Icon(color='green', \n",
    "                               icon= 'c_icon1'  ,#',\n",
    "                              prefix='fa')).add_to(m)\n",
    "\n",
    "folium.Marker(location=[42.03,-71.01], icon=folium.Icon(color='red', icon='tower')).add_to(m)\n",
    "\n",
    "folium.Marker(location=[42.02,-71.02], \n",
    "              icon=folium.Icon(color='pink', \n",
    "                               icon='mobile', \n",
    "                               prefix='fa') ).add_to(m)\n",
    "\n",
    "folium.Marker(location=[42.01,-71.02], icon=folium.Icon(color='lightgray', icon='phone-alt')).add_to(m)\n",
    "\n",
    "folium.Marker([42,-71],  popup='<strong> loc-1</strong>', tooltip=tooltip).add_to(m)\n",
    "folium.Marker([42,-71.1],  popup='<strong> loc-2</strong>', tooltip=tooltip).add_to(m)\n",
    "folium.Marker([42.013,-71],  popup='<strong> loc-3</strong>', tooltip=tooltip,\n",
    "             icon=folium.Icon(color='green', icon='leaf')).add_to(m)\n",
    "'''\n",
    "\n",
    "folium.Marker(location=[33.09373, -96.75884],  popup='<strong> loc-3</strong>', tooltip=tooltip,\n",
    "             icon=folium.Icon(color='red', \n",
    "                              icon='mobile',\n",
    "                              prefix = 'fa'  )).add_to(m)\n",
    "\n",
    "\n",
    "\n",
    "import numpy as np\n",
    "\n",
    "# ICON COLORS\n",
    "#  ['red', 'blue', 'green', 'purple', 'orange', 'darkred', 'lightred',\n",
    "#   'beige', 'darkblue', 'darkgreen', 'cadetblue', 'darkpurple', 'white',\n",
    "#   'pink', 'lightblue', 'lightgreen', 'gray', 'black', 'lightgray']\n",
    "\n",
    "# ICONS   https://fontawesome.com/icons?d=gallery\n",
    "icons  = ['leaf',  'mobile', 'android', 'anchor',  'angle-up', 'adjust', 'angle-double-up',  'angle-double-down', 'angle-double-left']\n",
    "colors = ['green', 'red',    'blue',    'orange',  'purple',    'black',   'cadetblue',         'pink', 'beige']\n",
    "#          'air-freshener',  'adn', 'arrow-alt-circle-left']\n",
    "\n",
    "N_ues = len(icons)\n",
    "\n",
    "xx=np.random.normal(loc=33.09373, scale=.01, size=N_ues)\n",
    "yy=np.random.normal(loc=-96.75884, scale=.01, size=N_ues)\n",
    "# .reshape(3,2)\n",
    "\n",
    "\n",
    "\n",
    "\n",
    "for i in range(N_ues):\n",
    "    folium.Marker(location=[xx[i], yy[i]],  \n",
    "                  popup='<strong> loc-3</strong>', \n",
    "                  tooltip=tooltip,\n",
    "             icon=folium.Icon(color=colors[i], \n",
    "                              icon=icons[i],\n",
    "                              prefix = 'fa'  )).add_to(m)\n",
    "\n",
    "\n",
    "\n",
    "\n",
    "# https://stackoverflow.com/questions/55802408/object-of-type-pngimagefile-is-not-json-serializable\n",
    "# folium.Marker([42.05,-71],  popup='<strong> loc-4</strong>', tooltip=tooltip,\n",
    "#              icon=folium.Icon(color='./conda/green', icon=eNBIcon)).add_to(m)\n",
    "\n",
    "# fn = \"./test.html\"\n",
    "# m.save(fn)\n",
    "m"
   ]
  },
  {
   "cell_type": "code",
   "execution_count": 20,
   "metadata": {},
   "outputs": [],
   "source": []
  },
  {
   "cell_type": "code",
   "execution_count": null,
   "metadata": {},
   "outputs": [],
   "source": []
  },
  {
   "cell_type": "code",
   "execution_count": 6,
   "metadata": {},
   "outputs": [
    {
     "name": "stderr",
     "output_type": "stream",
     "text": [
      "C:\\Users\\Farid Khafizov\\anaconda3\\lib\\site-packages\\ipykernel_launcher.py:21: FutureWarning: Method `add_children` is deprecated. Please use `add_child` instead.\n"
     ]
    },
    {
     "data": {
      "text/html": [
       "<div style=\"width:100%;\"><div style=\"position:relative;width:100%;height:0;padding-bottom:60%;\"><span style=\"color:#565656\">Make this Notebook Trusted to load map: File -> Trust Notebook</span><iframe src=\"about:blank\" style=\"position:absolute;width:100%;height:100%;left:0;top:0;border:none !important;\" data-html=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 onload=\"this.contentDocument.open();this.contentDocument.write(atob(this.getAttribute('data-html')));this.contentDocument.close();\" allowfullscreen webkitallowfullscreen mozallowfullscreen></iframe></div></div>"
      ],
      "text/plain": [
       "<folium.folium.Map at 0x992b550>"
      ]
     },
     "execution_count": 6,
     "metadata": {},
     "output_type": "execute_result"
    }
   ],
   "source": [
    "import folium\n",
    "\n",
    "# Coordinates are 10 points on the great circle from Boston to\n",
    "# San Francisco.\n",
    "# Reference: http://williams.best.vwh.net/avform.htm#Intermediate\n",
    "coordinates = [\n",
    "    [42.3581, -71.0636],\n",
    "    [42.82995815, -74.78991444],\n",
    "    [43.17929819, -78.56603306],\n",
    "    [43.40320216, -82.37774519],\n",
    "    [43.49975489, -86.20965845],\n",
    "    [41.4338549, -108.74485069],\n",
    "    [40.67471747, -112.29609954],\n",
    "    [39.8093434, -115.76190821],\n",
    "    [38.84352776, -119.13665678],\n",
    "    [37.7833, -122.4167]]\n",
    "\n",
    "# Create the map and add the line\n",
    "m = folium.Map(location=[41.9, -97.3], zoom_start=4)\n",
    "my_PolyLine=folium.PolyLine(locations=coordinates,weight=5)\n",
    "m.add_children(my_PolyLine)"
   ]
  },
  {
   "cell_type": "code",
   "execution_count": null,
   "metadata": {},
   "outputs": [],
   "source": []
  }
 ],
 "metadata": {
  "kernelspec": {
   "display_name": "Python 3",
   "language": "python",
   "name": "python3"
  },
  "language_info": {
   "codemirror_mode": {
    "name": "ipython",
    "version": 3
   },
   "file_extension": ".py",
   "mimetype": "text/x-python",
   "name": "python",
   "nbconvert_exporter": "python",
   "pygments_lexer": "ipython3",
   "version": "3.7.6"
  }
 },
 "nbformat": 4,
 "nbformat_minor": 4
}
