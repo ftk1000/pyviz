{
  "nbformat": 4,
  "nbformat_minor": 0,
  "metadata": {
    "colab": {
      "name": "haversine_rad_to_km.ipynb",
      "provenance": [],
      "authorship_tag": "ABX9TyOWYA0xvcPVsA7nyxi9SHNm",
      "include_colab_link": true
    },
    "kernelspec": {
      "name": "python3",
      "display_name": "Python 3"
    }
  },
  "cells": [
    {
      "cell_type": "markdown",
      "metadata": {
        "id": "view-in-github",
        "colab_type": "text"
      },
      "source": [
        "<a href=\"https://colab.research.google.com/github/ftk1000/pyviz/blob/master/haversine_rad_to_km.ipynb\" target=\"_parent\"><img src=\"https://colab.research.google.com/assets/colab-badge.svg\" alt=\"Open In Colab\"/></a>"
      ]
    },
    {
      "cell_type": "markdown",
      "metadata": {
        "id": "khaecRF8v5Q1"
      },
      "source": [
        "# haversine_rad_to_km.ipynb\n",
        "2020.11.23\n",
        "\n",
        "\n",
        "https://stackoverflow.com/questions/19412462/getting-distance-between-two-points-based-on-latitude-longitude\n",
        "\n",
        "https://stackoverflow.com/questions/4913349/haversine-formula-in-python-bearing-and-distance-between-two-gps-points/4913653#4913653"
      ]
    },
    {
      "cell_type": "code",
      "metadata": {
        "id": "klU9Pyw5v0Na"
      },
      "source": [
        "import pandas as pd\n",
        "import numpy as np"
      ],
      "execution_count": 1,
      "outputs": []
    },
    {
      "cell_type": "code",
      "metadata": {
        "colab": {
          "base_uri": "https://localhost:8080/"
        },
        "id": "Zff4cPCCvyka",
        "outputId": "16ad55b2-045d-4a23-caad-fdef67b22d69"
      },
      "source": [
        "def haversine_rad_to_km(   lat1_rad,lon1_rad,   \n",
        "                           lat2_rad,lon2_rad,                 \n",
        "                           **kwarg):\n",
        "    ## https://en.wikipedia.org/wiki/Haversine_formula\n",
        "    \"\"\"\n",
        "    This uses the ‘haversine’ formula to calculate the great-circle distance between two points – that is, \n",
        "    the shortest distance over the earth’s surface – giving an ‘as-the-crow-flies’ \n",
        "    distance between the points \n",
        "    (ignoring any hills they fly over, of course!).\n",
        "    Haversine\n",
        "    formula:    a = sin²(Δφ/2) + cos φ1 ⋅ cos φ2 ⋅ sin²(Δλ/2)\n",
        "    c = 2 ⋅ atan2( √a, √(1−a) )\n",
        "    d = R ⋅ c\n",
        "    where   φ is latitude, λ is longitude, R is earth’s radius (mean radius = 6,371km);\n",
        "    note that angles need to be in radians to pass to trig functions!\n",
        "    \"\"\"\n",
        "    R = 6371.0088\n",
        "#    lat1,lon1,lat2,lon2 = map(np.radians, [lat1,lon1,lat2,lon2])\n",
        "\n",
        "    dlat = lat2_rad - lat1_rad\n",
        "    dlon = lon2_rad - lon1_rad\n",
        "    a = np.sin(dlat/2)**2 + np.cos(lat1_rad) * np.cos(lat2_rad) * np.sin(dlon/2) **2\n",
        "    c = 2 * np.arctan2(a**0.5, (1-a)**0.5)\n",
        "    d = R * c\n",
        "    return round(d,4)\n",
        "\n",
        "\n",
        "def rad2deg(rad):\n",
        "  return rad/np.pi*180\n",
        "\n",
        "def deg2rad(deg):\n",
        "  return deg/180*np.pi\n",
        "\n",
        "print('90 deg in rad = ', deg2rad(90))\n",
        "print('3.14/3 rad in deg = ', rad2deg(3.14/3))\n",
        "\n",
        "\n",
        "\n",
        "def haversine_deg_to_km(lat1_deg, lon1_deg,\n",
        "                        lat2_deg, lon2_deg):\n",
        "  return haversine_rad_to_km(   deg2rad(lat1_deg), deg2rad(lon1_deg),\n",
        "                                deg2rad(lat2_deg), deg2rad(lon2_deg)  )"
      ],
      "execution_count": 6,
      "outputs": [
        {
          "output_type": "stream",
          "text": [
            "90 deg in rad =  1.5707963267948966\n",
            "3.14/3 rad in deg =  59.969582557026165\n"
          ],
          "name": "stdout"
        }
      ]
    },
    {
      "cell_type": "markdown",
      "metadata": {
        "id": "v1rewVgXv26L"
      },
      "source": [
        "### examples of usage"
      ]
    },
    {
      "cell_type": "code",
      "metadata": {
        "colab": {
          "base_uri": "https://localhost:8080/"
        },
        "id": "_NOIoyZtwZ2K",
        "outputId": "f264c666-9b5b-4d4a-ea9e-1c78e90c0143"
      },
      "source": [
        "# lat1_rad, lon1_rad = 50, 50\n",
        "# lat2_rad, lon2_rad = 51, 51 \n",
        "lat1_deg, lon1_deg = 50, 50\n",
        "lat2_deg, lon2_deg = 51, 51 \n",
        "d_ab = haversine_deg_to_km( lat1_deg, lon1_deg, lat2_deg, lon2_deg )   \n",
        "\n",
        "d_cd = haversine_deg_to_km( 40, 40,  41, 41 )   \n",
        "\n",
        "D=90; print(f\"distance between ({D},{D}) and ({D+1},{D+1}) is {haversine_deg_to_km( D, D,  D+1, D+1 ) } km\")\n",
        "D=80; print(f\"distance between ({D},{D}) and ({D+1},{D+1}) is {haversine_deg_to_km( D, D,  D+1, D+1 ) } km\")\n",
        "D=70; print(f\"distance between ({D},{D}) and ({D+1},{D+1}) is {haversine_deg_to_km( D, D,  D+1, D+1 ) } km\")\n",
        "D=60; print(f\"distance between ({D},{D}) and ({D+1},{D+1}) is {haversine_deg_to_km( D, D,  D+1, D+1 ) } km\")\n",
        "print(f\"distance between (50,50) and (51,51) is {d_ab} km\")\n",
        "print(f\"distance between (40,40) and (41,41) is {d_cd} km\")\n",
        "D=30; print(f\"distance between ({D},{D}) and ({D+1},{D+1}) is {haversine_deg_to_km( D, D,  D+1, D+1 ) } km\")\n",
        "D=20; print(f\"distance between ({D},{D}) and ({D+1},{D+1}) is {haversine_deg_to_km( D, D,  D+1, D+1 ) } km\")\n",
        "D=10; print(f\"distance between ({D},{D}) and ({D+1},{D+1}) is {haversine_deg_to_km( D, D,  D+1, D+1 ) } km\")\n",
        "D=0; print(f\"distance between ({D},{D}) and ({D+1},{D+1}) is {haversine_deg_to_km( D, D,  D+1, D+1 ) } km\")\n"
      ],
      "execution_count": 15,
      "outputs": [
        {
          "output_type": "stream",
          "text": [
            "distance between (90,90) and (91,91) is 111.1951 km\n",
            "distance between (80,80) and (81,81) is 112.6953 km\n",
            "distance between (70,70) and (71,71) is 117.2227 km\n",
            "distance between (60,60) and (61,61) is 123.942 km\n",
            "distance between (50,50) and (51,51) is 131.7807 km\n",
            "distance between (40,40) and (41,41) is 139.6888 km\n",
            "distance between (30,30) and (31,31) is 146.7759 km\n",
            "distance between (20,20) and (21,21) is 152.3543 km\n",
            "distance between (10,10) and (11,11) is 155.9414 km\n",
            "distance between (0,0) and (1,1) is 157.2496 km\n"
          ],
          "name": "stdout"
        }
      ]
    },
    {
      "cell_type": "code",
      "metadata": {
        "colab": {
          "base_uri": "https://localhost:8080/"
        },
        "id": "Qa2ku89T1muL",
        "outputId": "d4a39fbd-342f-440c-859b-cee01005f176"
      },
      "source": [
        "lyon = [45.7597, 4.8422] # (lat, lon)\n",
        "paris = [48.8567, 2.3508]\n",
        "new_york = [40.7033962, -74.2351462]\n",
        "print('google: The shortest distance (air line) between New-York and Paris is 5,838.89 km.')\n",
        "print(f\"dist Paris-NYC is {haversine_deg_to_km(paris[0],paris[1], new_york[0], new_york[1])} km\")\n",
        "print(' ')\n",
        "print('google: Distance from Paris to Lyon  is 393 kilometers. ')\n",
        "print(f\"dist Paris-Lyon is {haversine_deg_to_km(paris[0],paris[1], lyon[0], lyon[1])} km\")\n"
      ],
      "execution_count": 21,
      "outputs": [
        {
          "output_type": "stream",
          "text": [
            "google: The shortest distance (air line) between New-York and Paris is 5,838.89 km.\n",
            "dist Paris-NYC is 5853.329 km\n",
            " \n",
            "google: Distance from Paris to Lyon  is 393 kilometers. \n",
            "dist Paris-Lyon is 392.2173 km\n"
          ],
          "name": "stdout"
        }
      ]
    },
    {
      "cell_type": "code",
      "metadata": {
        "id": "Vby43Yrrvrl8"
      },
      "source": [
        "\n",
        "\n",
        "#%%\n",
        "\n",
        "#haversine_rad_to_km(1,1,2,2)   \n",
        "'''\n",
        "lat1_rad = radians(52.2296756)\n",
        "lon1_rad = radians(21.0122287)\n",
        "lat2_rad = radians(52.406374)\n",
        "lon2_rad = radians(16.9251681) \n",
        "haversine_rad_to_km(lat1_rad,lon1_rad,   lat2_rad,lon2_rad)\n",
        "'''\n",
        "#%%\n",
        "#from haversine import haversine_vector, Unit\n",
        "#\n",
        "#lyon = (45.7597, 4.8422) # (lat, lon)\n",
        "#paris = (48.8567, 2.3508)\n",
        "#new_york = (40.7033962, -74.2351462)\n",
        "#\n",
        "#haversine_vector([lyon, lyon], [paris, new_york], Unit.KILOMETERS)\n",
        "#>> array([ 392.21725956, 6163.43638211])\n",
        "#%%\n",
        "#from geopy.distance import geodesic\n",
        "#\n",
        "#origin = (30.172705, 31.526725)  # (latitude, longitude) don't confuse\n",
        "#dist = (30.288281, 31.732326)\n",
        "#\n",
        "#print(geodesic(origin, dist).meters)  # 23576.805481751613\n",
        "#print(geodesic(origin, dist).kilometers)  # 23.576805481751613\n",
        "#print(geodesic(origin, dist).miles)  # 14.64994773134371"
      ],
      "execution_count": null,
      "outputs": []
    }
  ]
}