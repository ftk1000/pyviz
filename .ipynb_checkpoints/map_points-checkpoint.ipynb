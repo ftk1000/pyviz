{
 "cells": [
  {
   "cell_type": "markdown",
   "metadata": {},
   "source": [
    "# map_points.ipynb\n",
    "\n",
    "https://www.youtube.com/watch?v=4RnU5qKTfYY\n",
    "\n",
    "    \n",
    "2020.05.16"
   ]
  },
  {
   "cell_type": "code",
   "execution_count": 3,
   "metadata": {},
   "outputs": [
    {
     "name": "stdout",
     "output_type": "stream",
     "text": [
      "Collecting folium\n",
      "  Downloading folium-0.11.0-py2.py3-none-any.whl (93 kB)\n",
      "Requirement already satisfied: numpy in c:\\users\\farid khafizov\\anaconda3\\lib\\site-packages (from folium) (1.18.1)\n",
      "Requirement already satisfied: requests in c:\\users\\farid khafizov\\anaconda3\\lib\\site-packages (from folium) (2.22.0)\n",
      "Requirement already satisfied: jinja2>=2.9 in c:\\users\\farid khafizov\\anaconda3\\lib\\site-packages (from folium) (2.11.1)\n",
      "Collecting branca>=0.3.0\n",
      "  Downloading branca-0.4.1-py3-none-any.whl (24 kB)\n",
      "Requirement already satisfied: certifi>=2017.4.17 in c:\\users\\farid khafizov\\anaconda3\\lib\\site-packages (from requests->folium) (2019.11.28)\n",
      "Requirement already satisfied: idna<2.9,>=2.5 in c:\\users\\farid khafizov\\anaconda3\\lib\\site-packages (from requests->folium) (2.8)\n",
      "Requirement already satisfied: chardet<3.1.0,>=3.0.2 in c:\\users\\farid khafizov\\anaconda3\\lib\\site-packages (from requests->folium) (3.0.4)\n",
      "Requirement already satisfied: urllib3!=1.25.0,!=1.25.1,<1.26,>=1.21.1 in c:\\users\\farid khafizov\\anaconda3\\lib\\site-packages (from requests->folium) (1.25.8)\n",
      "Requirement already satisfied: MarkupSafe>=0.23 in c:\\users\\farid khafizov\\anaconda3\\lib\\site-packages (from jinja2>=2.9->folium) (1.1.1)\n",
      "Installing collected packages: branca, folium\n",
      "Successfully installed branca-0.4.1 folium-0.11.0\n"
     ]
    }
   ],
   "source": [
    "# !pip install folium"
   ]
  },
  {
   "cell_type": "code",
   "execution_count": 6,
   "metadata": {},
   "outputs": [],
   "source": [
    "import folium"
   ]
  },
  {
   "cell_type": "markdown",
   "metadata": {},
   "source": [
    "# List of icons\n",
    "* [https://fontawesome.com/icons?d=gallery](https://fontawesome.com/icons?d=gallery)\n",
    "* glyphicon icons of Bootstrap that are built-in and standard, thus without prefix needed. https://getbootstrap.com/docs/3.3/components/\n",
    "* https://stackoverflow.com/questions/53721079/python-folium-icon-list\n",
    "* [SVG icons at https://feathericons.com/](https://feathericons.com/)"
   ]
  },
  {
   "cell_type": "code",
   "execution_count": 1,
   "metadata": {},
   "outputs": [
    {
     "data": {
      "text/html": [
       "<div style=\"width:100%;\"><div style=\"position:relative;width:100%;height:0;padding-bottom:60%;\"><span style=\"color:#565656\">Make this Notebook Trusted to load map: File -> Trust Notebook</span><iframe src=\"about:blank\" style=\"position:absolute;width:100%;height:100%;left:0;top:0;border:none !important;\" data-html=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 onload=\"this.contentDocument.open();this.contentDocument.write(atob(this.getAttribute('data-html')));this.contentDocument.close();\" allowfullscreen webkitallowfullscreen mozallowfullscreen></iframe></div></div>"
      ],
      "text/plain": [
       "<folium.folium.Map at 0x200634cec10>"
      ]
     },
     "execution_count": 1,
     "metadata": {},
     "output_type": "execute_result"
    }
   ],
   "source": [
    "\n",
    "\n",
    "m = folium.Map(  location=[33.09373, -96.75884], zoom_start=13 )\n",
    "\n",
    "tooltip = 'click for more info'\n",
    "\n",
    "c_icon0 = folium.features.CustomIcon('./icons/logo.png',                  icon_size=(50,50)) \n",
    "c_icon1 = folium.features.CustomIcon('./icons/broadcast-tower-solid.svg', icon_size=(50,50)) \n",
    "# c_icon2 = folium.features.CustomIcon('./feather/compass.svg',             icon_size=(50,50))\n",
    "'''\n",
    "folium.Marker(location=[42.015,-71.035], \n",
    "              icon=folium.Icon(color='green', \n",
    "                               icon= 'c_icon1'  ,#',\n",
    "                              prefix='fa')).add_to(m)\n",
    "\n",
    "folium.Marker(location=[42.03,-71.01], icon=folium.Icon(color='red', icon='tower')).add_to(m)\n",
    "\n",
    "folium.Marker(location=[42.02,-71.02], \n",
    "              icon=folium.Icon(color='pink', \n",
    "                               icon='mobile', \n",
    "                               prefix='fa') ).add_to(m)\n",
    "\n",
    "folium.Marker(location=[42.01,-71.02], icon=folium.Icon(color='lightgray', icon='phone-alt')).add_to(m)\n",
    "\n",
    "folium.Marker([42,-71],  popup='<strong> loc-1</strong>', tooltip=tooltip).add_to(m)\n",
    "folium.Marker([42,-71.1],  popup='<strong> loc-2</strong>', tooltip=tooltip).add_to(m)\n",
    "folium.Marker([42.013,-71],  popup='<strong> loc-3</strong>', tooltip=tooltip,\n",
    "             icon=folium.Icon(color='green', icon='leaf')).add_to(m)\n",
    "'''\n",
    "\n",
    "folium.Marker(location=[33.09373, -96.75884],  popup='<strong> loc-3</strong>', tooltip=tooltip,\n",
    "             icon=folium.Icon(color='red', \n",
    "                              icon='mobile',\n",
    "                              prefix = 'fa'  )).add_to(m)\n",
    "\n",
    "\n",
    "\n",
    "import numpy as np\n",
    "#  ICON COLORS\n",
    "#   ['red', 'blue', 'green', 'purple', 'orange', 'darkred', 'lightred',\n",
    "#   'beige', 'darkblue', 'darkgreen', 'cadetblue', 'darkpurple', 'white',\n",
    "#   'pink', 'lightblue', 'lightgreen', 'gray', 'black', 'lightgray']\n",
    "\n",
    "# ICONS   https://fontawesome.com/icons?d=gallery\n",
    "icons  = ['leaf',  'mobile', 'android', 'anchor',  'angle-up', 'adjust', 'angle-double-up',  'angle-double-right',\n",
    "          'angle-double-down', 'angle-double-left']\n",
    "#          'air-freshener',  'adn', 'arrow-alt-circle-left', 'arrow-alt-circle-up', 'archway']\n",
    "\n",
    "colors=['red', 'blue', 'green', 'purple', 'orange', 'darkred', 'lightred',\n",
    "  'beige', 'darkblue', 'darkgreen', 'cadetblue', 'darkpurple', 'white',\n",
    "  'pink', 'lightblue', 'lightgreen', 'gray', 'black', 'lightgray']\n",
    "\n",
    "colors = ['green', 'red',    'blue',    'orange',  'purple',    'black',   'cadetblue', 'pink',\n",
    "          'beige',   'green' ,'lightred']\n",
    "\n",
    "\n",
    "N_ues = len(icons)\n",
    "\n",
    "xx=np.random.normal(loc=33.09373, scale=.01, size=N_ues)\n",
    "yy=np.random.normal(loc=-96.75884, scale=.01, size=N_ues)\n",
    "# .reshape(3,2)\n",
    "\n",
    "\n",
    "\n",
    "\n",
    "for i in range(N_ues):\n",
    "    folium.Marker(location=[xx[i], yy[i]],  \n",
    "                  popup='<strong> loc-3</strong>', \n",
    "                  tooltip=tooltip,\n",
    "             icon=folium.Icon(color=colors[i], \n",
    "                              icon=icons[i],\n",
    "                              prefix = 'fa'  )).add_to(m)\n",
    "\n",
    "\n",
    "\n",
    "\n",
    "# https://stackoverflow.com/questions/55802408/object-of-type-pngimagefile-is-not-json-serializable\n",
    "# folium.Marker([42.05,-71],  popup='<strong> loc-4</strong>', tooltip=tooltip,\n",
    "#              icon=folium.Icon(color='./conda/green', icon=eNBIcon)).add_to(m)\n",
    "\n",
    "# fn = \"./test.html\"\n",
    "# m.save(fn)\n",
    "m"
   ]
  },
  {
   "cell_type": "code",
   "execution_count": null,
   "metadata": {},
   "outputs": [],
   "source": []
  },
  {
   "cell_type": "code",
   "execution_count": null,
   "metadata": {},
   "outputs": [],
   "source": []
  },
  {
   "cell_type": "code",
   "execution_count": 2,
   "metadata": {},
   "outputs": [
    {
     "name": "stderr",
     "output_type": "stream",
     "text": [
      "<ipython-input-2-f05c350fceb9>:21: FutureWarning: Method `add_children` is deprecated. Please use `add_child` instead.\n",
      "  m.add_children(my_PolyLine)\n"
     ]
    },
    {
     "data": {
      "text/html": [
       "<div style=\"width:100%;\"><div style=\"position:relative;width:100%;height:0;padding-bottom:60%;\"><span style=\"color:#565656\">Make this Notebook Trusted to load map: File -> Trust Notebook</span><iframe src=\"about:blank\" style=\"position:absolute;width:100%;height:100%;left:0;top:0;border:none !important;\" data-html=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 onload=\"this.contentDocument.open();this.contentDocument.write(atob(this.getAttribute('data-html')));this.contentDocument.close();\" allowfullscreen webkitallowfullscreen mozallowfullscreen></iframe></div></div>"
      ],
      "text/plain": [
       "<folium.folium.Map at 0x20065f9aca0>"
      ]
     },
     "execution_count": 2,
     "metadata": {},
     "output_type": "execute_result"
    }
   ],
   "source": [
    "import folium\n",
    "\n",
    "# Coordinates are 10 points on the great circle from Boston to\n",
    "# San Francisco.\n",
    "# Reference: http://williams.best.vwh.net/avform.htm#Intermediate\n",
    "coordinates = [\n",
    "    [42.3581, -71.0636],\n",
    "    [42.82995815, -74.78991444],\n",
    "    [43.17929819, -78.56603306],\n",
    "    [43.40320216, -82.37774519],\n",
    "    [43.49975489, -86.20965845],\n",
    "    [41.4338549, -108.74485069],\n",
    "    [40.67471747, -112.29609954],\n",
    "    [39.8093434, -115.76190821],\n",
    "    [38.84352776, -119.13665678],\n",
    "    [37.7833, -122.4167]]\n",
    "\n",
    "# Create the map and add the line\n",
    "m = folium.Map(location=[41.9, -97.3], zoom_start=4)\n",
    "my_PolyLine=folium.PolyLine(locations=coordinates,weight=5)\n",
    "m.add_children(my_PolyLine)"
   ]
  },
  {
   "cell_type": "code",
   "execution_count": 5,
   "metadata": {},
   "outputs": [
    {
     "data": {
      "text/html": [
       "<div style=\"width:100%;\"><div style=\"position:relative;width:100%;height:0;padding-bottom:60%;\"><span style=\"color:#565656\">Make this Notebook Trusted to load map: File -> Trust Notebook</span><iframe src=\"about:blank\" style=\"position:absolute;width:100%;height:100%;left:0;top:0;border:none !important;\" data-html=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 onload=\"this.contentDocument.open();this.contentDocument.write(atob(this.getAttribute('data-html')));this.contentDocument.close();\" allowfullscreen webkitallowfullscreen mozallowfullscreen></iframe></div></div>"
      ],
      "text/plain": [
       "<folium.folium.Map at 0x200634fdcd0>"
      ]
     },
     "execution_count": 5,
     "metadata": {},
     "output_type": "execute_result"
    }
   ],
   "source": [
    "m = folium.Map(  location=[42,-71], zoom_start=12 )\n",
    "\n",
    "eNBIcon = folium.features.CustomIcon('./icons/enb.png', icon_size=(50,50))\n",
    "\n",
    "tooltip = 'click for more info'\n",
    "\n",
    "folium.Marker([42,-71],  popup='<strong> loc-1</strong>', tooltip=tooltip).add_to(m)\n",
    "folium.Marker([42,-71.1],  popup='<strong> loc-2</strong>', tooltip=tooltip).add_to(m)\n",
    "folium.Marker([42.1,-71],  popup='<strong> loc-3</strong>', tooltip=tooltip,\n",
    "             icon=folium.Icon(color='green', icon='leaf')).add_to(m)\n",
    "\n",
    "# https://stackoverflow.com/questions/55802408/object-of-type-pngimagefile-is-not-json-serializable\n",
    "# folium.Marker([42.05,-71],  popup='<strong> loc-4</strong>', tooltip=tooltip,\n",
    "#              icon=folium.Icon(color='./conda/green', icon=eNBIcon)).add_to(m)\n",
    "\n",
    "# fn = \"./conda/test.html\"\n",
    "# m.save(fn)\n",
    "m"
   ]
  },
  {
   "cell_type": "code",
   "execution_count": null,
   "metadata": {},
   "outputs": [],
   "source": []
  }
 ],
 "metadata": {
  "kernelspec": {
   "display_name": "Python 3",
   "language": "python",
   "name": "python3"
  },
  "language_info": {
   "codemirror_mode": {
    "name": "ipython",
    "version": 3
   },
   "file_extension": ".py",
   "mimetype": "text/x-python",
   "name": "python",
   "nbconvert_exporter": "python",
   "pygments_lexer": "ipython3",
   "version": "3.8.3"
  }
 },
 "nbformat": 4,
 "nbformat_minor": 4
}
